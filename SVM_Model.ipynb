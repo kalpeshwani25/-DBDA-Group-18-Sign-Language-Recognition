{
 "cells": [
  {
   "cell_type": "code",
   "execution_count": 1,
   "id": "cb14d8a2-2873-4351-97df-73d5ca7a28b0",
   "metadata": {},
   "outputs": [],
   "source": [
    "import pandas as pd\n",
    "from sklearn.model_selection import train_test_split\n",
    "from sklearn.metrics import accuracy_score, confusion_matrix, classification_report, f1_score, recall_score, precision_score\n",
    "from sklearn.svm import SVC\n",
    "from sklearn.model_selection import GridSearchCV\n",
    "import mediapipe as mp\n",
    "import cv2\n",
    "import matplotlib.pyplot as plt\n",
    "import numpy as np\n",
    "import seaborn as sns"
   ]
  },
  {
   "cell_type": "code",
   "execution_count": 5,
   "id": "ef6f81b7-7135-4108-a70d-3bc8bc2071dd",
   "metadata": {},
   "outputs": [
    {
     "data": {
      "text/html": [
       "<div>\n",
       "<style scoped>\n",
       "    .dataframe tbody tr th:only-of-type {\n",
       "        vertical-align: middle;\n",
       "    }\n",
       "\n",
       "    .dataframe tbody tr th {\n",
       "        vertical-align: top;\n",
       "    }\n",
       "\n",
       "    .dataframe thead th {\n",
       "        text-align: right;\n",
       "    }\n",
       "</style>\n",
       "<table border=\"1\" class=\"dataframe\">\n",
       "  <thead>\n",
       "    <tr style=\"text-align: right;\">\n",
       "      <th></th>\n",
       "      <th>0</th>\n",
       "      <th>1</th>\n",
       "      <th>2</th>\n",
       "      <th>3</th>\n",
       "      <th>4</th>\n",
       "      <th>5</th>\n",
       "      <th>6</th>\n",
       "      <th>7</th>\n",
       "      <th>8</th>\n",
       "      <th>9</th>\n",
       "      <th>...</th>\n",
       "      <th>33</th>\n",
       "      <th>34</th>\n",
       "      <th>35</th>\n",
       "      <th>36</th>\n",
       "      <th>37</th>\n",
       "      <th>38</th>\n",
       "      <th>39</th>\n",
       "      <th>40</th>\n",
       "      <th>41</th>\n",
       "      <th>Output</th>\n",
       "    </tr>\n",
       "  </thead>\n",
       "  <tbody>\n",
       "    <tr>\n",
       "      <th>0</th>\n",
       "      <td>0.492369</td>\n",
       "      <td>0.726060</td>\n",
       "      <td>0.405709</td>\n",
       "      <td>0.573301</td>\n",
       "      <td>0.393324</td>\n",
       "      <td>0.436897</td>\n",
       "      <td>0.375276</td>\n",
       "      <td>0.333601</td>\n",
       "      <td>0.410476</td>\n",
       "      <td>0.273160</td>\n",
       "      <td>...</td>\n",
       "      <td>0.267553</td>\n",
       "      <td>0.596707</td>\n",
       "      <td>0.452055</td>\n",
       "      <td>0.567914</td>\n",
       "      <td>0.284197</td>\n",
       "      <td>0.492559</td>\n",
       "      <td>0.244615</td>\n",
       "      <td>0.439766</td>\n",
       "      <td>0.254566</td>\n",
       "      <td>0</td>\n",
       "    </tr>\n",
       "    <tr>\n",
       "      <th>1</th>\n",
       "      <td>0.482654</td>\n",
       "      <td>0.775688</td>\n",
       "      <td>0.411680</td>\n",
       "      <td>0.641784</td>\n",
       "      <td>0.428783</td>\n",
       "      <td>0.511874</td>\n",
       "      <td>0.424878</td>\n",
       "      <td>0.414647</td>\n",
       "      <td>0.410806</td>\n",
       "      <td>0.322470</td>\n",
       "      <td>...</td>\n",
       "      <td>0.243036</td>\n",
       "      <td>0.575496</td>\n",
       "      <td>0.507668</td>\n",
       "      <td>0.537906</td>\n",
       "      <td>0.347951</td>\n",
       "      <td>0.480721</td>\n",
       "      <td>0.287534</td>\n",
       "      <td>0.432350</td>\n",
       "      <td>0.267996</td>\n",
       "      <td>0</td>\n",
       "    </tr>\n",
       "    <tr>\n",
       "      <th>2</th>\n",
       "      <td>0.524942</td>\n",
       "      <td>0.835003</td>\n",
       "      <td>0.420151</td>\n",
       "      <td>0.683020</td>\n",
       "      <td>0.412023</td>\n",
       "      <td>0.521440</td>\n",
       "      <td>0.377590</td>\n",
       "      <td>0.400761</td>\n",
       "      <td>0.360579</td>\n",
       "      <td>0.289319</td>\n",
       "      <td>...</td>\n",
       "      <td>0.228300</td>\n",
       "      <td>0.586289</td>\n",
       "      <td>0.442580</td>\n",
       "      <td>0.517394</td>\n",
       "      <td>0.232191</td>\n",
       "      <td>0.421385</td>\n",
       "      <td>0.202212</td>\n",
       "      <td>0.356972</td>\n",
       "      <td>0.237859</td>\n",
       "      <td>0</td>\n",
       "    </tr>\n",
       "    <tr>\n",
       "      <th>3</th>\n",
       "      <td>0.653893</td>\n",
       "      <td>0.742574</td>\n",
       "      <td>0.482526</td>\n",
       "      <td>0.633177</td>\n",
       "      <td>0.414809</td>\n",
       "      <td>0.489256</td>\n",
       "      <td>0.328679</td>\n",
       "      <td>0.402120</td>\n",
       "      <td>0.259287</td>\n",
       "      <td>0.333474</td>\n",
       "      <td>...</td>\n",
       "      <td>0.322542</td>\n",
       "      <td>0.636071</td>\n",
       "      <td>0.391211</td>\n",
       "      <td>0.448107</td>\n",
       "      <td>0.283989</td>\n",
       "      <td>0.348224</td>\n",
       "      <td>0.327670</td>\n",
       "      <td>0.326649</td>\n",
       "      <td>0.384955</td>\n",
       "      <td>0</td>\n",
       "    </tr>\n",
       "    <tr>\n",
       "      <th>4</th>\n",
       "      <td>0.000000</td>\n",
       "      <td>0.000000</td>\n",
       "      <td>0.000000</td>\n",
       "      <td>0.000000</td>\n",
       "      <td>0.000000</td>\n",
       "      <td>0.000000</td>\n",
       "      <td>0.000000</td>\n",
       "      <td>0.000000</td>\n",
       "      <td>0.000000</td>\n",
       "      <td>0.000000</td>\n",
       "      <td>...</td>\n",
       "      <td>0.000000</td>\n",
       "      <td>0.000000</td>\n",
       "      <td>0.000000</td>\n",
       "      <td>0.000000</td>\n",
       "      <td>0.000000</td>\n",
       "      <td>0.000000</td>\n",
       "      <td>0.000000</td>\n",
       "      <td>0.000000</td>\n",
       "      <td>0.000000</td>\n",
       "      <td>0</td>\n",
       "    </tr>\n",
       "    <tr>\n",
       "      <th>...</th>\n",
       "      <td>...</td>\n",
       "      <td>...</td>\n",
       "      <td>...</td>\n",
       "      <td>...</td>\n",
       "      <td>...</td>\n",
       "      <td>...</td>\n",
       "      <td>...</td>\n",
       "      <td>...</td>\n",
       "      <td>...</td>\n",
       "      <td>...</td>\n",
       "      <td>...</td>\n",
       "      <td>...</td>\n",
       "      <td>...</td>\n",
       "      <td>...</td>\n",
       "      <td>...</td>\n",
       "      <td>...</td>\n",
       "      <td>...</td>\n",
       "      <td>...</td>\n",
       "      <td>...</td>\n",
       "      <td>...</td>\n",
       "      <td>...</td>\n",
       "    </tr>\n",
       "    <tr>\n",
       "      <th>2056</th>\n",
       "      <td>0.396621</td>\n",
       "      <td>0.756157</td>\n",
       "      <td>0.293443</td>\n",
       "      <td>0.716737</td>\n",
       "      <td>0.236275</td>\n",
       "      <td>0.616953</td>\n",
       "      <td>0.243362</td>\n",
       "      <td>0.509800</td>\n",
       "      <td>0.314641</td>\n",
       "      <td>0.440108</td>\n",
       "      <td>...</td>\n",
       "      <td>0.171861</td>\n",
       "      <td>0.541103</td>\n",
       "      <td>0.535594</td>\n",
       "      <td>0.576547</td>\n",
       "      <td>0.426150</td>\n",
       "      <td>0.605529</td>\n",
       "      <td>0.357341</td>\n",
       "      <td>0.628323</td>\n",
       "      <td>0.295749</td>\n",
       "      <td>9</td>\n",
       "    </tr>\n",
       "    <tr>\n",
       "      <th>2057</th>\n",
       "      <td>0.000000</td>\n",
       "      <td>0.000000</td>\n",
       "      <td>0.000000</td>\n",
       "      <td>0.000000</td>\n",
       "      <td>0.000000</td>\n",
       "      <td>0.000000</td>\n",
       "      <td>0.000000</td>\n",
       "      <td>0.000000</td>\n",
       "      <td>0.000000</td>\n",
       "      <td>0.000000</td>\n",
       "      <td>...</td>\n",
       "      <td>0.000000</td>\n",
       "      <td>0.000000</td>\n",
       "      <td>0.000000</td>\n",
       "      <td>0.000000</td>\n",
       "      <td>0.000000</td>\n",
       "      <td>0.000000</td>\n",
       "      <td>0.000000</td>\n",
       "      <td>0.000000</td>\n",
       "      <td>0.000000</td>\n",
       "      <td>9</td>\n",
       "    </tr>\n",
       "    <tr>\n",
       "      <th>2058</th>\n",
       "      <td>0.000000</td>\n",
       "      <td>0.000000</td>\n",
       "      <td>0.000000</td>\n",
       "      <td>0.000000</td>\n",
       "      <td>0.000000</td>\n",
       "      <td>0.000000</td>\n",
       "      <td>0.000000</td>\n",
       "      <td>0.000000</td>\n",
       "      <td>0.000000</td>\n",
       "      <td>0.000000</td>\n",
       "      <td>...</td>\n",
       "      <td>0.000000</td>\n",
       "      <td>0.000000</td>\n",
       "      <td>0.000000</td>\n",
       "      <td>0.000000</td>\n",
       "      <td>0.000000</td>\n",
       "      <td>0.000000</td>\n",
       "      <td>0.000000</td>\n",
       "      <td>0.000000</td>\n",
       "      <td>0.000000</td>\n",
       "      <td>9</td>\n",
       "    </tr>\n",
       "    <tr>\n",
       "      <th>2059</th>\n",
       "      <td>0.422038</td>\n",
       "      <td>0.857729</td>\n",
       "      <td>0.322249</td>\n",
       "      <td>0.792741</td>\n",
       "      <td>0.240123</td>\n",
       "      <td>0.676758</td>\n",
       "      <td>0.247068</td>\n",
       "      <td>0.575678</td>\n",
       "      <td>0.353286</td>\n",
       "      <td>0.557905</td>\n",
       "      <td>...</td>\n",
       "      <td>0.238640</td>\n",
       "      <td>0.638220</td>\n",
       "      <td>0.619354</td>\n",
       "      <td>0.694607</td>\n",
       "      <td>0.526014</td>\n",
       "      <td>0.736247</td>\n",
       "      <td>0.464618</td>\n",
       "      <td>0.773772</td>\n",
       "      <td>0.400244</td>\n",
       "      <td>9</td>\n",
       "    </tr>\n",
       "    <tr>\n",
       "      <th>2060</th>\n",
       "      <td>0.440386</td>\n",
       "      <td>0.826604</td>\n",
       "      <td>0.312136</td>\n",
       "      <td>0.757484</td>\n",
       "      <td>0.232996</td>\n",
       "      <td>0.619876</td>\n",
       "      <td>0.249606</td>\n",
       "      <td>0.485898</td>\n",
       "      <td>0.369855</td>\n",
       "      <td>0.435976</td>\n",
       "      <td>...</td>\n",
       "      <td>0.141024</td>\n",
       "      <td>0.645787</td>\n",
       "      <td>0.571353</td>\n",
       "      <td>0.696972</td>\n",
       "      <td>0.440584</td>\n",
       "      <td>0.728532</td>\n",
       "      <td>0.362856</td>\n",
       "      <td>0.752454</td>\n",
       "      <td>0.294963</td>\n",
       "      <td>9</td>\n",
       "    </tr>\n",
       "  </tbody>\n",
       "</table>\n",
       "<p>2061 rows × 43 columns</p>\n",
       "</div>"
      ],
      "text/plain": [
       "             0         1         2         3         4         5         6  \\\n",
       "0     0.492369  0.726060  0.405709  0.573301  0.393324  0.436897  0.375276   \n",
       "1     0.482654  0.775688  0.411680  0.641784  0.428783  0.511874  0.424878   \n",
       "2     0.524942  0.835003  0.420151  0.683020  0.412023  0.521440  0.377590   \n",
       "3     0.653893  0.742574  0.482526  0.633177  0.414809  0.489256  0.328679   \n",
       "4     0.000000  0.000000  0.000000  0.000000  0.000000  0.000000  0.000000   \n",
       "...        ...       ...       ...       ...       ...       ...       ...   \n",
       "2056  0.396621  0.756157  0.293443  0.716737  0.236275  0.616953  0.243362   \n",
       "2057  0.000000  0.000000  0.000000  0.000000  0.000000  0.000000  0.000000   \n",
       "2058  0.000000  0.000000  0.000000  0.000000  0.000000  0.000000  0.000000   \n",
       "2059  0.422038  0.857729  0.322249  0.792741  0.240123  0.676758  0.247068   \n",
       "2060  0.440386  0.826604  0.312136  0.757484  0.232996  0.619876  0.249606   \n",
       "\n",
       "             7         8         9  ...        33        34        35  \\\n",
       "0     0.333601  0.410476  0.273160  ...  0.267553  0.596707  0.452055   \n",
       "1     0.414647  0.410806  0.322470  ...  0.243036  0.575496  0.507668   \n",
       "2     0.400761  0.360579  0.289319  ...  0.228300  0.586289  0.442580   \n",
       "3     0.402120  0.259287  0.333474  ...  0.322542  0.636071  0.391211   \n",
       "4     0.000000  0.000000  0.000000  ...  0.000000  0.000000  0.000000   \n",
       "...        ...       ...       ...  ...       ...       ...       ...   \n",
       "2056  0.509800  0.314641  0.440108  ...  0.171861  0.541103  0.535594   \n",
       "2057  0.000000  0.000000  0.000000  ...  0.000000  0.000000  0.000000   \n",
       "2058  0.000000  0.000000  0.000000  ...  0.000000  0.000000  0.000000   \n",
       "2059  0.575678  0.353286  0.557905  ...  0.238640  0.638220  0.619354   \n",
       "2060  0.485898  0.369855  0.435976  ...  0.141024  0.645787  0.571353   \n",
       "\n",
       "            36        37        38        39        40        41  Output  \n",
       "0     0.567914  0.284197  0.492559  0.244615  0.439766  0.254566       0  \n",
       "1     0.537906  0.347951  0.480721  0.287534  0.432350  0.267996       0  \n",
       "2     0.517394  0.232191  0.421385  0.202212  0.356972  0.237859       0  \n",
       "3     0.448107  0.283989  0.348224  0.327670  0.326649  0.384955       0  \n",
       "4     0.000000  0.000000  0.000000  0.000000  0.000000  0.000000       0  \n",
       "...        ...       ...       ...       ...       ...       ...     ...  \n",
       "2056  0.576547  0.426150  0.605529  0.357341  0.628323  0.295749       9  \n",
       "2057  0.000000  0.000000  0.000000  0.000000  0.000000  0.000000       9  \n",
       "2058  0.000000  0.000000  0.000000  0.000000  0.000000  0.000000       9  \n",
       "2059  0.694607  0.526014  0.736247  0.464618  0.773772  0.400244       9  \n",
       "2060  0.696972  0.440584  0.728532  0.362856  0.752454  0.294963       9  \n",
       "\n",
       "[2061 rows x 43 columns]"
      ]
     },
     "execution_count": 5,
     "metadata": {},
     "output_type": "execute_result"
    }
   ],
   "source": [
    "df = pd.read_csv('D:/DBDA Project/DBDA Project Final/digits/digits_dataset.csv')\n",
    "df.columns = [i for i in range(df.shape[1])]\n",
    "df = df.rename(columns={42: 'Output'})\n",
    "df"
   ]
  },
  {
   "cell_type": "code",
   "execution_count": 6,
   "id": "3155ed98-9f2b-4d63-8d09-279a6245aa5d",
   "metadata": {},
   "outputs": [
    {
     "name": "stdout",
     "output_type": "stream",
     "text": [
      "Uncleaned dataset shape = (2061, 43)\n"
     ]
    }
   ],
   "source": [
    "print(\"Uncleaned dataset shape =\", df.shape)"
   ]
  },
  {
   "cell_type": "code",
   "execution_count": 7,
   "id": "6de37324-724f-48c9-8686-d0b415961b4a",
   "metadata": {},
   "outputs": [
    {
     "name": "stdout",
     "output_type": "stream",
     "text": [
      "Number of null values = 1266\n"
     ]
    }
   ],
   "source": [
    "all_null_values = df[df.iloc[:, 0] == 0]\n",
    "print(\"Number of null values =\", len(all_null_values.index))"
   ]
  },
  {
   "cell_type": "code",
   "execution_count": 8,
   "id": "a27a6dc0-7a13-4058-a66e-5560b9063da2",
   "metadata": {},
   "outputs": [],
   "source": [
    "# dropping those null values from our dataset\n",
    "\n",
    "df.drop(all_null_values.index, inplace=True)"
   ]
  },
  {
   "cell_type": "code",
   "execution_count": 9,
   "id": "c0c03cb7-de11-4a06-9ec5-cc4605a2ee0f",
   "metadata": {},
   "outputs": [
    {
     "name": "stdout",
     "output_type": "stream",
     "text": [
      "Cleaned dataset shape = (795, 43)\n"
     ]
    }
   ],
   "source": [
    "print(\"Cleaned dataset shape =\", df.shape)"
   ]
  },
  {
   "cell_type": "code",
   "execution_count": 10,
   "id": "19e82931-38fe-4584-847a-9643ec40072a",
   "metadata": {},
   "outputs": [
    {
     "name": "stdout",
     "output_type": "stream",
     "text": [
      "Features shape = (795, 42)\n",
      "Labels shape = (795,)\n"
     ]
    }
   ],
   "source": [
    "X = df.iloc[:, :-1]\n",
    "print(\"Features shape =\", X.shape)\n",
    "\n",
    "Y = df.iloc[:, -1]\n",
    "print(\"Labels shape =\", Y.shape)"
   ]
  },
  {
   "cell_type": "code",
   "execution_count": 11,
   "id": "2327bebe-9383-4e29-b4f1-912c98c8ff8c",
   "metadata": {},
   "outputs": [],
   "source": [
    "x_train, x_test, y_train, y_test = train_test_split(X, Y, test_size=0.2, random_state=0)"
   ]
  },
  {
   "cell_type": "code",
   "execution_count": 12,
   "id": "f17e5596-b18b-4225-8a0e-6ac48511861d",
   "metadata": {},
   "outputs": [],
   "source": [
    "svm = SVC(C=100, gamma=0.1, kernel='rbf')"
   ]
  },
  {
   "cell_type": "code",
   "execution_count": 13,
   "id": "e4427a9a-c404-4781-b1e7-80cf49a83068",
   "metadata": {},
   "outputs": [
    {
     "data": {
      "text/html": [
       "<style>#sk-container-id-1 {color: black;background-color: white;}#sk-container-id-1 pre{padding: 0;}#sk-container-id-1 div.sk-toggleable {background-color: white;}#sk-container-id-1 label.sk-toggleable__label {cursor: pointer;display: block;width: 100%;margin-bottom: 0;padding: 0.3em;box-sizing: border-box;text-align: center;}#sk-container-id-1 label.sk-toggleable__label-arrow:before {content: \"▸\";float: left;margin-right: 0.25em;color: #696969;}#sk-container-id-1 label.sk-toggleable__label-arrow:hover:before {color: black;}#sk-container-id-1 div.sk-estimator:hover label.sk-toggleable__label-arrow:before {color: black;}#sk-container-id-1 div.sk-toggleable__content {max-height: 0;max-width: 0;overflow: hidden;text-align: left;background-color: #f0f8ff;}#sk-container-id-1 div.sk-toggleable__content pre {margin: 0.2em;color: black;border-radius: 0.25em;background-color: #f0f8ff;}#sk-container-id-1 input.sk-toggleable__control:checked~div.sk-toggleable__content {max-height: 200px;max-width: 100%;overflow: auto;}#sk-container-id-1 input.sk-toggleable__control:checked~label.sk-toggleable__label-arrow:before {content: \"▾\";}#sk-container-id-1 div.sk-estimator input.sk-toggleable__control:checked~label.sk-toggleable__label {background-color: #d4ebff;}#sk-container-id-1 div.sk-label input.sk-toggleable__control:checked~label.sk-toggleable__label {background-color: #d4ebff;}#sk-container-id-1 input.sk-hidden--visually {border: 0;clip: rect(1px 1px 1px 1px);clip: rect(1px, 1px, 1px, 1px);height: 1px;margin: -1px;overflow: hidden;padding: 0;position: absolute;width: 1px;}#sk-container-id-1 div.sk-estimator {font-family: monospace;background-color: #f0f8ff;border: 1px dotted black;border-radius: 0.25em;box-sizing: border-box;margin-bottom: 0.5em;}#sk-container-id-1 div.sk-estimator:hover {background-color: #d4ebff;}#sk-container-id-1 div.sk-parallel-item::after {content: \"\";width: 100%;border-bottom: 1px solid gray;flex-grow: 1;}#sk-container-id-1 div.sk-label:hover label.sk-toggleable__label {background-color: #d4ebff;}#sk-container-id-1 div.sk-serial::before {content: \"\";position: absolute;border-left: 1px solid gray;box-sizing: border-box;top: 0;bottom: 0;left: 50%;z-index: 0;}#sk-container-id-1 div.sk-serial {display: flex;flex-direction: column;align-items: center;background-color: white;padding-right: 0.2em;padding-left: 0.2em;position: relative;}#sk-container-id-1 div.sk-item {position: relative;z-index: 1;}#sk-container-id-1 div.sk-parallel {display: flex;align-items: stretch;justify-content: center;background-color: white;position: relative;}#sk-container-id-1 div.sk-item::before, #sk-container-id-1 div.sk-parallel-item::before {content: \"\";position: absolute;border-left: 1px solid gray;box-sizing: border-box;top: 0;bottom: 0;left: 50%;z-index: -1;}#sk-container-id-1 div.sk-parallel-item {display: flex;flex-direction: column;z-index: 1;position: relative;background-color: white;}#sk-container-id-1 div.sk-parallel-item:first-child::after {align-self: flex-end;width: 50%;}#sk-container-id-1 div.sk-parallel-item:last-child::after {align-self: flex-start;width: 50%;}#sk-container-id-1 div.sk-parallel-item:only-child::after {width: 0;}#sk-container-id-1 div.sk-dashed-wrapped {border: 1px dashed gray;margin: 0 0.4em 0.5em 0.4em;box-sizing: border-box;padding-bottom: 0.4em;background-color: white;}#sk-container-id-1 div.sk-label label {font-family: monospace;font-weight: bold;display: inline-block;line-height: 1.2em;}#sk-container-id-1 div.sk-label-container {text-align: center;}#sk-container-id-1 div.sk-container {/* jupyter's `normalize.less` sets `[hidden] { display: none; }` but bootstrap.min.css set `[hidden] { display: none !important; }` so we also need the `!important` here to be able to override the default hidden behavior on the sphinx rendered scikit-learn.org. See: https://github.com/scikit-learn/scikit-learn/issues/21755 */display: inline-block !important;position: relative;}#sk-container-id-1 div.sk-text-repr-fallback {display: none;}</style><div id=\"sk-container-id-1\" class=\"sk-top-container\"><div class=\"sk-text-repr-fallback\"><pre>SVC(C=100, gamma=0.1)</pre><b>In a Jupyter environment, please rerun this cell to show the HTML representation or trust the notebook. <br />On GitHub, the HTML representation is unable to render, please try loading this page with nbviewer.org.</b></div><div class=\"sk-container\" hidden><div class=\"sk-item\"><div class=\"sk-estimator sk-toggleable\"><input class=\"sk-toggleable__control sk-hidden--visually\" id=\"sk-estimator-id-1\" type=\"checkbox\" checked><label for=\"sk-estimator-id-1\" class=\"sk-toggleable__label sk-toggleable__label-arrow\">SVC</label><div class=\"sk-toggleable__content\"><pre>SVC(C=100, gamma=0.1)</pre></div></div></div></div></div>"
      ],
      "text/plain": [
       "SVC(C=100, gamma=0.1)"
      ]
     },
     "execution_count": 13,
     "metadata": {},
     "output_type": "execute_result"
    }
   ],
   "source": [
    "svm.fit(x_train, y_train)"
   ]
  },
  {
   "cell_type": "code",
   "execution_count": 14,
   "id": "61a0fd10-47ba-4213-8359-6006047b33e6",
   "metadata": {},
   "outputs": [],
   "source": [
    "# import pickle\n",
    "\n",
    "# with open('pkl_digits.pkl', 'wb') as model_file:\n",
    "#     pickle.dump(svm, model_file)"
   ]
  },
  {
   "cell_type": "code",
   "execution_count": 19,
   "id": "1152bdaa-bba4-405e-b776-ec2f4ad65a52",
   "metadata": {},
   "outputs": [],
   "source": [
    "y_pred = svm.predict(x_test)"
   ]
  },
  {
   "cell_type": "code",
   "execution_count": 20,
   "id": "41a30a30-d681-439d-b678-a94fdaf08582",
   "metadata": {},
   "outputs": [
    {
     "name": "stdout",
     "output_type": "stream",
     "text": [
      "Accuracy Score:  0.9685534591194969\n"
     ]
    }
   ],
   "source": [
    "# Evaluate the accuracy\n",
    "print('Accuracy Score: ', accuracy_score(y_pred, y_test))"
   ]
  },
  {
   "cell_type": "code",
   "execution_count": 21,
   "id": "10fe5899-d4f4-46fc-abd9-5765edc6c503",
   "metadata": {},
   "outputs": [
    {
     "name": "stdout",
     "output_type": "stream",
     "text": [
      "              precision    recall  f1-score   support\n",
      "\n",
      "           0       1.00      0.88      0.93         8\n",
      "           1       0.83      0.91      0.87        11\n",
      "           2       1.00      0.75      0.86         4\n",
      "           3       1.00      1.00      1.00        27\n",
      "           4       1.00      1.00      1.00        18\n",
      "           5       1.00      1.00      1.00        39\n",
      "           6       1.00      1.00      1.00         2\n",
      "           7       0.75      1.00      0.86         6\n",
      "           8       0.90      0.82      0.86        11\n",
      "           9       1.00      1.00      1.00        33\n",
      "\n",
      "    accuracy                           0.97       159\n",
      "   macro avg       0.95      0.94      0.94       159\n",
      "weighted avg       0.97      0.97      0.97       159\n",
      "\n"
     ]
    }
   ],
   "source": [
    "# Evaluate the accuracy\n",
    "print(classification_report(y_pred, y_test))"
   ]
  },
  {
   "cell_type": "code",
   "execution_count": 22,
   "id": "41bfea24-3851-4c24-a721-cf16a147396c",
   "metadata": {},
   "outputs": [],
   "source": [
    "cf_matrix = confusion_matrix(y_test, y_pred)\n",
    "f1 = f1_score(y_test, y_pred, average='micro')\n",
    "recall = recall_score(y_test, y_pred, average='micro')\n",
    "precision = precision_score(y_test, y_pred, average='micro')"
   ]
  },
  {
   "cell_type": "code",
   "execution_count": 23,
   "id": "8d63efc8-e860-4f72-993f-1433366708b3",
   "metadata": {},
   "outputs": [
    {
     "data": {
      "text/plain": [
       "<Axes: title={'center': 'Confusion Matrix'}>"
      ]
     },
     "execution_count": 23,
     "metadata": {},
     "output_type": "execute_result"
    },
    {
     "data": {
      "image/png": "[encoded data removed]",
      "text/plain": [
       "<Figure size 1200x1200 with 2 Axes>"
      ]
     },
     "metadata": {},
     "output_type": "display_data"
    }
   ],
   "source": [
    "labels = sorted(list(set(df['Output'])))\n",
    "labels = [x for x in labels]\n",
    "\n",
    "fig, ax = plt.subplots(figsize=(12, 12))\n",
    "\n",
    "ax.set_title(\"Confusion Matrix\")\n",
    "\n",
    "maping = sns.heatmap(cf_matrix, \n",
    "                     annot=True,\n",
    "                     cmap = plt.cm.Blues, \n",
    "                     linewidths=.2,\n",
    "                     xticklabels=labels,\n",
    "                     yticklabels=labels, vmax=8,\n",
    "                     fmt='g',\n",
    "                     ax=ax\n",
    "                    )\n",
    "maping"
   ]
  },
  {
   "cell_type": "code",
   "execution_count": 24,
   "id": "7da8f84b-2231-4824-9dc3-f649277e65e0",
   "metadata": {},
   "outputs": [],
   "source": [
    "maping.figure.savefig(\"Confusion Matrix.png\")"
   ]
  },
  {
   "cell_type": "code",
   "execution_count": null,
   "id": "002e3a76-feba-4ebb-8f5c-d29c927a5205",
   "metadata": {},
   "outputs": [],
   "source": []
  }
 ],
 "metadata": {
  "kernelspec": {
   "display_name": "Python 3 (ipykernel)",
   "language": "python",
   "name": "python3"
  },
  "language_info": {
   "codemirror_mode": {
    "name": "ipython",
    "version": 3
   },
   "file_extension": ".py",
   "mimetype": "text/x-python",
   "name": "python",
   "nbconvert_exporter": "python",
   "pygments_lexer": "ipython3",
   "version": "3.10.9"
  }
 },
 "nbformat": 4,
 "nbformat_minor": 5
}
