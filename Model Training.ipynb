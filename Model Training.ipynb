{
 "cells": [
  {
   "cell_type": "code",
   "execution_count": 1,
   "id": "f827b9d5-cc74-4d57-a791-075d73b8c70c",
   "metadata": {},
   "outputs": [],
   "source": [
    "import pandas as pd\n",
    "from sklearn.model_selection import train_test_split\n",
    "from sklearn.metrics import accuracy_score, confusion_matrix, classification_report, f1_score, recall_score, precision_score\n",
    "from sklearn.svm import SVC\n",
    "from sklearn.model_selection import GridSearchCV\n",
    "import seaborn as sns\n",
    "import matplotlib.pyplot as plt"
   ]
  },
  {
   "cell_type": "code",
   "execution_count": 2,
   "id": "7c57eb0c-8137-476d-afca-594c262db8eb",
   "metadata": {},
   "outputs": [
    {
     "data": {
      "text/html": [
       "<div>\n",
       "<style scoped>\n",
       "    .dataframe tbody tr th:only-of-type {\n",
       "        vertical-align: middle;\n",
       "    }\n",
       "\n",
       "    .dataframe tbody tr th {\n",
       "        vertical-align: top;\n",
       "    }\n",
       "\n",
       "    .dataframe thead th {\n",
       "        text-align: right;\n",
       "    }\n",
       "</style>\n",
       "<table border=\"1\" class=\"dataframe\">\n",
       "  <thead>\n",
       "    <tr style=\"text-align: right;\">\n",
       "      <th></th>\n",
       "      <th>0</th>\n",
       "      <th>1</th>\n",
       "      <th>2</th>\n",
       "      <th>3</th>\n",
       "      <th>4</th>\n",
       "      <th>5</th>\n",
       "      <th>6</th>\n",
       "      <th>7</th>\n",
       "      <th>8</th>\n",
       "      <th>9</th>\n",
       "      <th>...</th>\n",
       "      <th>33</th>\n",
       "      <th>34</th>\n",
       "      <th>35</th>\n",
       "      <th>36</th>\n",
       "      <th>37</th>\n",
       "      <th>38</th>\n",
       "      <th>39</th>\n",
       "      <th>40</th>\n",
       "      <th>41</th>\n",
       "      <th>Output</th>\n",
       "    </tr>\n",
       "  </thead>\n",
       "  <tbody>\n",
       "    <tr>\n",
       "      <th>0</th>\n",
       "      <td>0.000000</td>\n",
       "      <td>0.000000</td>\n",
       "      <td>0.000000</td>\n",
       "      <td>0.000000</td>\n",
       "      <td>0.000000</td>\n",
       "      <td>0.000000</td>\n",
       "      <td>0.000000</td>\n",
       "      <td>0.000000</td>\n",
       "      <td>0.000000</td>\n",
       "      <td>0.000000</td>\n",
       "      <td>...</td>\n",
       "      <td>0.000000</td>\n",
       "      <td>0.000000</td>\n",
       "      <td>0.000000</td>\n",
       "      <td>0.000000</td>\n",
       "      <td>0.000000</td>\n",
       "      <td>0.000000</td>\n",
       "      <td>0.000000</td>\n",
       "      <td>0.000000</td>\n",
       "      <td>0.000000</td>\n",
       "      <td>A</td>\n",
       "    </tr>\n",
       "    <tr>\n",
       "      <th>1</th>\n",
       "      <td>0.000000</td>\n",
       "      <td>0.000000</td>\n",
       "      <td>0.000000</td>\n",
       "      <td>0.000000</td>\n",
       "      <td>0.000000</td>\n",
       "      <td>0.000000</td>\n",
       "      <td>0.000000</td>\n",
       "      <td>0.000000</td>\n",
       "      <td>0.000000</td>\n",
       "      <td>0.000000</td>\n",
       "      <td>...</td>\n",
       "      <td>0.000000</td>\n",
       "      <td>0.000000</td>\n",
       "      <td>0.000000</td>\n",
       "      <td>0.000000</td>\n",
       "      <td>0.000000</td>\n",
       "      <td>0.000000</td>\n",
       "      <td>0.000000</td>\n",
       "      <td>0.000000</td>\n",
       "      <td>0.000000</td>\n",
       "      <td>A</td>\n",
       "    </tr>\n",
       "    <tr>\n",
       "      <th>2</th>\n",
       "      <td>0.299407</td>\n",
       "      <td>0.679288</td>\n",
       "      <td>0.210996</td>\n",
       "      <td>0.613102</td>\n",
       "      <td>0.150618</td>\n",
       "      <td>0.522777</td>\n",
       "      <td>0.127314</td>\n",
       "      <td>0.438344</td>\n",
       "      <td>0.130090</td>\n",
       "      <td>0.381808</td>\n",
       "      <td>...</td>\n",
       "      <td>0.574705</td>\n",
       "      <td>0.358198</td>\n",
       "      <td>0.506751</td>\n",
       "      <td>0.360233</td>\n",
       "      <td>0.452296</td>\n",
       "      <td>0.350743</td>\n",
       "      <td>0.506043</td>\n",
       "      <td>0.339431</td>\n",
       "      <td>0.557486</td>\n",
       "      <td>A</td>\n",
       "    </tr>\n",
       "    <tr>\n",
       "      <th>3</th>\n",
       "      <td>0.284236</td>\n",
       "      <td>0.729573</td>\n",
       "      <td>0.173007</td>\n",
       "      <td>0.635995</td>\n",
       "      <td>0.111589</td>\n",
       "      <td>0.496627</td>\n",
       "      <td>0.109330</td>\n",
       "      <td>0.372887</td>\n",
       "      <td>0.124706</td>\n",
       "      <td>0.266505</td>\n",
       "      <td>...</td>\n",
       "      <td>0.608846</td>\n",
       "      <td>0.450521</td>\n",
       "      <td>0.479627</td>\n",
       "      <td>0.401771</td>\n",
       "      <td>0.453182</td>\n",
       "      <td>0.359019</td>\n",
       "      <td>0.534598</td>\n",
       "      <td>0.349776</td>\n",
       "      <td>0.602132</td>\n",
       "      <td>A</td>\n",
       "    </tr>\n",
       "    <tr>\n",
       "      <th>4</th>\n",
       "      <td>0.272220</td>\n",
       "      <td>0.750940</td>\n",
       "      <td>0.151656</td>\n",
       "      <td>0.647857</td>\n",
       "      <td>0.090840</td>\n",
       "      <td>0.491623</td>\n",
       "      <td>0.096680</td>\n",
       "      <td>0.370796</td>\n",
       "      <td>0.111904</td>\n",
       "      <td>0.266032</td>\n",
       "      <td>...</td>\n",
       "      <td>0.641275</td>\n",
       "      <td>0.449075</td>\n",
       "      <td>0.491492</td>\n",
       "      <td>0.394166</td>\n",
       "      <td>0.473755</td>\n",
       "      <td>0.353244</td>\n",
       "      <td>0.558699</td>\n",
       "      <td>0.346559</td>\n",
       "      <td>0.625984</td>\n",
       "      <td>A</td>\n",
       "    </tr>\n",
       "    <tr>\n",
       "      <th>...</th>\n",
       "      <td>...</td>\n",
       "      <td>...</td>\n",
       "      <td>...</td>\n",
       "      <td>...</td>\n",
       "      <td>...</td>\n",
       "      <td>...</td>\n",
       "      <td>...</td>\n",
       "      <td>...</td>\n",
       "      <td>...</td>\n",
       "      <td>...</td>\n",
       "      <td>...</td>\n",
       "      <td>...</td>\n",
       "      <td>...</td>\n",
       "      <td>...</td>\n",
       "      <td>...</td>\n",
       "      <td>...</td>\n",
       "      <td>...</td>\n",
       "      <td>...</td>\n",
       "      <td>...</td>\n",
       "      <td>...</td>\n",
       "      <td>...</td>\n",
       "    </tr>\n",
       "    <tr>\n",
       "      <th>77994</th>\n",
       "      <td>0.526264</td>\n",
       "      <td>0.677356</td>\n",
       "      <td>0.405371</td>\n",
       "      <td>0.684395</td>\n",
       "      <td>0.335519</td>\n",
       "      <td>0.593608</td>\n",
       "      <td>0.387241</td>\n",
       "      <td>0.459165</td>\n",
       "      <td>0.450325</td>\n",
       "      <td>0.363955</td>\n",
       "      <td>...</td>\n",
       "      <td>0.523216</td>\n",
       "      <td>0.504606</td>\n",
       "      <td>0.434744</td>\n",
       "      <td>0.525846</td>\n",
       "      <td>0.400675</td>\n",
       "      <td>0.525645</td>\n",
       "      <td>0.488662</td>\n",
       "      <td>0.509252</td>\n",
       "      <td>0.529258</td>\n",
       "      <td>Z</td>\n",
       "    </tr>\n",
       "    <tr>\n",
       "      <th>77995</th>\n",
       "      <td>0.524471</td>\n",
       "      <td>0.684394</td>\n",
       "      <td>0.401440</td>\n",
       "      <td>0.688333</td>\n",
       "      <td>0.329967</td>\n",
       "      <td>0.594382</td>\n",
       "      <td>0.379672</td>\n",
       "      <td>0.458701</td>\n",
       "      <td>0.442549</td>\n",
       "      <td>0.363953</td>\n",
       "      <td>...</td>\n",
       "      <td>0.521610</td>\n",
       "      <td>0.506394</td>\n",
       "      <td>0.435055</td>\n",
       "      <td>0.525869</td>\n",
       "      <td>0.390700</td>\n",
       "      <td>0.524858</td>\n",
       "      <td>0.478981</td>\n",
       "      <td>0.509965</td>\n",
       "      <td>0.520434</td>\n",
       "      <td>Z</td>\n",
       "    </tr>\n",
       "    <tr>\n",
       "      <th>77996</th>\n",
       "      <td>0.522581</td>\n",
       "      <td>0.677694</td>\n",
       "      <td>0.397469</td>\n",
       "      <td>0.681666</td>\n",
       "      <td>0.327541</td>\n",
       "      <td>0.590112</td>\n",
       "      <td>0.389733</td>\n",
       "      <td>0.455139</td>\n",
       "      <td>0.467794</td>\n",
       "      <td>0.375672</td>\n",
       "      <td>...</td>\n",
       "      <td>0.504175</td>\n",
       "      <td>0.501952</td>\n",
       "      <td>0.435226</td>\n",
       "      <td>0.517287</td>\n",
       "      <td>0.387353</td>\n",
       "      <td>0.518052</td>\n",
       "      <td>0.469302</td>\n",
       "      <td>0.505998</td>\n",
       "      <td>0.502548</td>\n",
       "      <td>Z</td>\n",
       "    </tr>\n",
       "    <tr>\n",
       "      <th>77997</th>\n",
       "      <td>0.532845</td>\n",
       "      <td>0.682315</td>\n",
       "      <td>0.400254</td>\n",
       "      <td>0.683759</td>\n",
       "      <td>0.322961</td>\n",
       "      <td>0.584981</td>\n",
       "      <td>0.387589</td>\n",
       "      <td>0.448374</td>\n",
       "      <td>0.470393</td>\n",
       "      <td>0.373412</td>\n",
       "      <td>...</td>\n",
       "      <td>0.500650</td>\n",
       "      <td>0.511076</td>\n",
       "      <td>0.435591</td>\n",
       "      <td>0.523066</td>\n",
       "      <td>0.379406</td>\n",
       "      <td>0.523126</td>\n",
       "      <td>0.453426</td>\n",
       "      <td>0.514232</td>\n",
       "      <td>0.487108</td>\n",
       "      <td>Z</td>\n",
       "    </tr>\n",
       "    <tr>\n",
       "      <th>77998</th>\n",
       "      <td>0.540281</td>\n",
       "      <td>0.675530</td>\n",
       "      <td>0.413560</td>\n",
       "      <td>0.681854</td>\n",
       "      <td>0.333672</td>\n",
       "      <td>0.586581</td>\n",
       "      <td>0.385783</td>\n",
       "      <td>0.445418</td>\n",
       "      <td>0.457761</td>\n",
       "      <td>0.350155</td>\n",
       "      <td>...</td>\n",
       "      <td>0.501399</td>\n",
       "      <td>0.510576</td>\n",
       "      <td>0.428731</td>\n",
       "      <td>0.529173</td>\n",
       "      <td>0.381493</td>\n",
       "      <td>0.530944</td>\n",
       "      <td>0.466449</td>\n",
       "      <td>0.521323</td>\n",
       "      <td>0.500644</td>\n",
       "      <td>Z</td>\n",
       "    </tr>\n",
       "  </tbody>\n",
       "</table>\n",
       "<p>77999 rows × 43 columns</p>\n",
       "</div>"
      ],
      "text/plain": [
       "              0         1         2         3         4         5         6  \\\n",
       "0      0.000000  0.000000  0.000000  0.000000  0.000000  0.000000  0.000000   \n",
       "1      0.000000  0.000000  0.000000  0.000000  0.000000  0.000000  0.000000   \n",
       "2      0.299407  0.679288  0.210996  0.613102  0.150618  0.522777  0.127314   \n",
       "3      0.284236  0.729573  0.173007  0.635995  0.111589  0.496627  0.109330   \n",
       "4      0.272220  0.750940  0.151656  0.647857  0.090840  0.491623  0.096680   \n",
       "...         ...       ...       ...       ...       ...       ...       ...   \n",
       "77994  0.526264  0.677356  0.405371  0.684395  0.335519  0.593608  0.387241   \n",
       "77995  0.524471  0.684394  0.401440  0.688333  0.329967  0.594382  0.379672   \n",
       "77996  0.522581  0.677694  0.397469  0.681666  0.327541  0.590112  0.389733   \n",
       "77997  0.532845  0.682315  0.400254  0.683759  0.322961  0.584981  0.387589   \n",
       "77998  0.540281  0.675530  0.413560  0.681854  0.333672  0.586581  0.385783   \n",
       "\n",
       "              7         8         9  ...        33        34        35  \\\n",
       "0      0.000000  0.000000  0.000000  ...  0.000000  0.000000  0.000000   \n",
       "1      0.000000  0.000000  0.000000  ...  0.000000  0.000000  0.000000   \n",
       "2      0.438344  0.130090  0.381808  ...  0.574705  0.358198  0.506751   \n",
       "3      0.372887  0.124706  0.266505  ...  0.608846  0.450521  0.479627   \n",
       "4      0.370796  0.111904  0.266032  ...  0.641275  0.449075  0.491492   \n",
       "...         ...       ...       ...  ...       ...       ...       ...   \n",
       "77994  0.459165  0.450325  0.363955  ...  0.523216  0.504606  0.434744   \n",
       "77995  0.458701  0.442549  0.363953  ...  0.521610  0.506394  0.435055   \n",
       "77996  0.455139  0.467794  0.375672  ...  0.504175  0.501952  0.435226   \n",
       "77997  0.448374  0.470393  0.373412  ...  0.500650  0.511076  0.435591   \n",
       "77998  0.445418  0.457761  0.350155  ...  0.501399  0.510576  0.428731   \n",
       "\n",
       "             36        37        38        39        40        41  Output  \n",
       "0      0.000000  0.000000  0.000000  0.000000  0.000000  0.000000       A  \n",
       "1      0.000000  0.000000  0.000000  0.000000  0.000000  0.000000       A  \n",
       "2      0.360233  0.452296  0.350743  0.506043  0.339431  0.557486       A  \n",
       "3      0.401771  0.453182  0.359019  0.534598  0.349776  0.602132       A  \n",
       "4      0.394166  0.473755  0.353244  0.558699  0.346559  0.625984       A  \n",
       "...         ...       ...       ...       ...       ...       ...     ...  \n",
       "77994  0.525846  0.400675  0.525645  0.488662  0.509252  0.529258       Z  \n",
       "77995  0.525869  0.390700  0.524858  0.478981  0.509965  0.520434       Z  \n",
       "77996  0.517287  0.387353  0.518052  0.469302  0.505998  0.502548       Z  \n",
       "77997  0.523066  0.379406  0.523126  0.453426  0.514232  0.487108       Z  \n",
       "77998  0.529173  0.381493  0.530944  0.466449  0.521323  0.500644       Z  \n",
       "\n",
       "[77999 rows x 43 columns]"
      ]
     },
     "execution_count": 2,
     "metadata": {},
     "output_type": "execute_result"
    }
   ],
   "source": [
    "df = pd.read_csv('american.csv')\n",
    "df.columns = [i for i in range(df.shape[1])]\n",
    "df = df.rename(columns={42: 'Output'})\n",
    "df"
   ]
  },
  {
   "cell_type": "code",
   "execution_count": 3,
   "id": "5256c153-b4ad-4c57-9000-e915fe2a73b7",
   "metadata": {},
   "outputs": [
    {
     "name": "stdout",
     "output_type": "stream",
     "text": [
      "Uncleaned dataset shape = (77999, 43)\n"
     ]
    }
   ],
   "source": [
    "print(\"Uncleaned dataset shape =\", df.shape)"
   ]
  },
  {
   "cell_type": "code",
   "execution_count": 4,
   "id": "f122f590-58aa-4eb6-884a-07a0835b04b1",
   "metadata": {},
   "outputs": [
    {
     "name": "stdout",
     "output_type": "stream",
     "text": [
      "Number of null values = 37963\n"
     ]
    }
   ],
   "source": [
    "# removing null values from our dataset\n",
    "\n",
    "all_null_values = df[df.iloc[:, 0] == 0]\n",
    "print(\"Number of null values =\", len(all_null_values.index))"
   ]
  },
  {
   "cell_type": "code",
   "execution_count": 5,
   "id": "62b67ed4-e98b-47d1-a171-a0764f4398fc",
   "metadata": {},
   "outputs": [],
   "source": [
    "# dropping those null values from our dataset\n",
    "\n",
    "df.drop(all_null_values.index, inplace=True)"
   ]
  },
  {
   "cell_type": "code",
   "execution_count": 6,
   "id": "d7b0f8d7-8303-4b98-8f4d-752cbfd8295d",
   "metadata": {},
   "outputs": [
    {
     "name": "stdout",
     "output_type": "stream",
     "text": [
      "Cleaned dataset shape = (40036, 43)\n"
     ]
    }
   ],
   "source": [
    "print(\"Cleaned dataset shape =\", df.shape)"
   ]
  },
  {
   "cell_type": "code",
   "execution_count": 7,
   "id": "0ecb53f2-a85f-496f-a055-77a8def4a877",
   "metadata": {},
   "outputs": [
    {
     "name": "stdout",
     "output_type": "stream",
     "text": [
      "Features shape = (40036, 42)\n",
      "Labels shape = (40036,)\n"
     ]
    }
   ],
   "source": [
    "X = df.iloc[:, :-1]\n",
    "print(\"Features shape =\", X.shape)\n",
    "\n",
    "Y = df.iloc[:, -1]\n",
    "print(\"Labels shape =\", Y.shape)"
   ]
  },
  {
   "cell_type": "code",
   "execution_count": 8,
   "id": "c40181b8-3149-48f9-afad-06221750b656",
   "metadata": {},
   "outputs": [],
   "source": [
    "x_train, x_test, y_train, y_test = train_test_split(X, Y, test_size=0.2, random_state=0)"
   ]
  },
  {
   "cell_type": "code",
   "execution_count": 9,
   "id": "4a592d17-f71a-4b14-9500-c07bbbdb3cd2",
   "metadata": {},
   "outputs": [],
   "source": [
    "svm = SVC(C=100, gamma=0.1, kernel='rbf')"
   ]
  },
  {
   "cell_type": "code",
   "execution_count": 10,
   "id": "19782b71-05dd-4b0d-9a18-940f66481387",
   "metadata": {},
   "outputs": [
    {
     "data": {
      "text/html": [
       "<style>#sk-container-id-1 {color: black;background-color: white;}#sk-container-id-1 pre{padding: 0;}#sk-container-id-1 div.sk-toggleable {background-color: white;}#sk-container-id-1 label.sk-toggleable__label {cursor: pointer;display: block;width: 100%;margin-bottom: 0;padding: 0.3em;box-sizing: border-box;text-align: center;}#sk-container-id-1 label.sk-toggleable__label-arrow:before {content: \"▸\";float: left;margin-right: 0.25em;color: #696969;}#sk-container-id-1 label.sk-toggleable__label-arrow:hover:before {color: black;}#sk-container-id-1 div.sk-estimator:hover label.sk-toggleable__label-arrow:before {color: black;}#sk-container-id-1 div.sk-toggleable__content {max-height: 0;max-width: 0;overflow: hidden;text-align: left;background-color: #f0f8ff;}#sk-container-id-1 div.sk-toggleable__content pre {margin: 0.2em;color: black;border-radius: 0.25em;background-color: #f0f8ff;}#sk-container-id-1 input.sk-toggleable__control:checked~div.sk-toggleable__content {max-height: 200px;max-width: 100%;overflow: auto;}#sk-container-id-1 input.sk-toggleable__control:checked~label.sk-toggleable__label-arrow:before {content: \"▾\";}#sk-container-id-1 div.sk-estimator input.sk-toggleable__control:checked~label.sk-toggleable__label {background-color: #d4ebff;}#sk-container-id-1 div.sk-label input.sk-toggleable__control:checked~label.sk-toggleable__label {background-color: #d4ebff;}#sk-container-id-1 input.sk-hidden--visually {border: 0;clip: rect(1px 1px 1px 1px);clip: rect(1px, 1px, 1px, 1px);height: 1px;margin: -1px;overflow: hidden;padding: 0;position: absolute;width: 1px;}#sk-container-id-1 div.sk-estimator {font-family: monospace;background-color: #f0f8ff;border: 1px dotted black;border-radius: 0.25em;box-sizing: border-box;margin-bottom: 0.5em;}#sk-container-id-1 div.sk-estimator:hover {background-color: #d4ebff;}#sk-container-id-1 div.sk-parallel-item::after {content: \"\";width: 100%;border-bottom: 1px solid gray;flex-grow: 1;}#sk-container-id-1 div.sk-label:hover label.sk-toggleable__label {background-color: #d4ebff;}#sk-container-id-1 div.sk-serial::before {content: \"\";position: absolute;border-left: 1px solid gray;box-sizing: border-box;top: 0;bottom: 0;left: 50%;z-index: 0;}#sk-container-id-1 div.sk-serial {display: flex;flex-direction: column;align-items: center;background-color: white;padding-right: 0.2em;padding-left: 0.2em;position: relative;}#sk-container-id-1 div.sk-item {position: relative;z-index: 1;}#sk-container-id-1 div.sk-parallel {display: flex;align-items: stretch;justify-content: center;background-color: white;position: relative;}#sk-container-id-1 div.sk-item::before, #sk-container-id-1 div.sk-parallel-item::before {content: \"\";position: absolute;border-left: 1px solid gray;box-sizing: border-box;top: 0;bottom: 0;left: 50%;z-index: -1;}#sk-container-id-1 div.sk-parallel-item {display: flex;flex-direction: column;z-index: 1;position: relative;background-color: white;}#sk-container-id-1 div.sk-parallel-item:first-child::after {align-self: flex-end;width: 50%;}#sk-container-id-1 div.sk-parallel-item:last-child::after {align-self: flex-start;width: 50%;}#sk-container-id-1 div.sk-parallel-item:only-child::after {width: 0;}#sk-container-id-1 div.sk-dashed-wrapped {border: 1px dashed gray;margin: 0 0.4em 0.5em 0.4em;box-sizing: border-box;padding-bottom: 0.4em;background-color: white;}#sk-container-id-1 div.sk-label label {font-family: monospace;font-weight: bold;display: inline-block;line-height: 1.2em;}#sk-container-id-1 div.sk-label-container {text-align: center;}#sk-container-id-1 div.sk-container {/* jupyter's `normalize.less` sets `[hidden] { display: none; }` but bootstrap.min.css set `[hidden] { display: none !important; }` so we also need the `!important` here to be able to override the default hidden behavior on the sphinx rendered scikit-learn.org. See: https://github.com/scikit-learn/scikit-learn/issues/21755 */display: inline-block !important;position: relative;}#sk-container-id-1 div.sk-text-repr-fallback {display: none;}</style><div id=\"sk-container-id-1\" class=\"sk-top-container\"><div class=\"sk-text-repr-fallback\"><pre>SVC(C=100, gamma=0.1)</pre><b>In a Jupyter environment, please rerun this cell to show the HTML representation or trust the notebook. <br />On GitHub, the HTML representation is unable to render, please try loading this page with nbviewer.org.</b></div><div class=\"sk-container\" hidden><div class=\"sk-item\"><div class=\"sk-estimator sk-toggleable\"><input class=\"sk-toggleable__control sk-hidden--visually\" id=\"sk-estimator-id-1\" type=\"checkbox\" checked><label for=\"sk-estimator-id-1\" class=\"sk-toggleable__label sk-toggleable__label-arrow\">SVC</label><div class=\"sk-toggleable__content\"><pre>SVC(C=100, gamma=0.1)</pre></div></div></div></div></div>"
      ],
      "text/plain": [
       "SVC(C=100, gamma=0.1)"
      ]
     },
     "execution_count": 10,
     "metadata": {},
     "output_type": "execute_result"
    }
   ],
   "source": [
    "svm.fit(x_train, y_train)"
   ]
  },
  {
   "cell_type": "code",
   "execution_count": 11,
   "id": "1bd3ece9-d9da-4223-b6bd-e722ff42b3d5",
   "metadata": {},
   "outputs": [
    {
     "name": "stdout",
     "output_type": "stream",
     "text": [
      "Training score = 0.9950355938553765\n"
     ]
    }
   ],
   "source": [
    "print(\"Training score =\", svm.score(x_train, y_train))"
   ]
  },
  {
   "cell_type": "code",
   "execution_count": 12,
   "id": "6441163f-ca66-490c-8b40-f2be9e92817d",
   "metadata": {},
   "outputs": [],
   "source": [
    "y_pred = svm.predict(x_test)"
   ]
  },
  {
   "cell_type": "code",
   "execution_count": 13,
   "id": "63863e38-0cc1-4bea-92d1-5bd1d5d3d782",
   "metadata": {},
   "outputs": [
    {
     "name": "stdout",
     "output_type": "stream",
     "text": [
      "Testing score = 0.9915084915084915\n"
     ]
    }
   ],
   "source": [
    "print(\"Testing score =\", accuracy_score(y_test, y_pred))"
   ]
  },
  {
   "cell_type": "code",
   "execution_count": 14,
   "id": "243d37c4-53f1-41e9-9eae-1aba13ce810b",
   "metadata": {},
   "outputs": [],
   "source": [
    "cf_matrix = confusion_matrix(y_test, y_pred)\n",
    "f1 = f1_score(y_test, y_pred, average='micro')\n",
    "recall = recall_score(y_test, y_pred, average='micro')\n",
    "precision = precision_score(y_test, y_pred, average='micro')"
   ]
  },
  {
   "cell_type": "code",
   "execution_count": 15,
   "id": "93aa7027-6685-4288-a98f-fe56d62f92e0",
   "metadata": {},
   "outputs": [
    {
     "data": {
      "text/plain": [
       "(0.9915084915084915, 0.9915084915084915, 0.9915084915084915)"
      ]
     },
     "execution_count": 15,
     "metadata": {},
     "output_type": "execute_result"
    }
   ],
   "source": [
    "f1, recall, precision"
   ]
  },
  {
   "cell_type": "code",
   "execution_count": 16,
   "id": "71499245-2281-464f-a65d-032a94d19f67",
   "metadata": {},
   "outputs": [
    {
     "data": {
      "text/plain": [
       "<Axes: title={'center': 'Confusion Matrix - American Sign Language'}>"
      ]
     },
     "execution_count": 16,
     "metadata": {},
     "output_type": "execute_result"
    },
    {
     "data": {
      "image/png": "[encoded data removed]",
      "text/plain": [
       "<Figure size 1200x1200 with 2 Axes>"
      ]
     },
     "metadata": {},
     "output_type": "display_data"
    }
   ],
   "source": [
    "labels = sorted(list(set(df['Output'])))\n",
    "labels = [x.upper() for x in labels]\n",
    "\n",
    "fig, ax = plt.subplots(figsize=(12, 12))\n",
    "\n",
    "ax.set_title(\"Confusion Matrix - American Sign Language\")\n",
    "\n",
    "maping = sns.heatmap(cf_matrix, \n",
    "                     annot=True,\n",
    "                     cmap = plt.cm.Blues, \n",
    "                     linewidths=.2,\n",
    "                     xticklabels=labels,\n",
    "                     yticklabels=labels, vmax=8,\n",
    "                     fmt='g',\n",
    "                     ax=ax\n",
    "                    )\n",
    "maping"
   ]
  },
  {
   "cell_type": "code",
   "execution_count": 17,
   "id": "f10305e7-d9b0-403c-8e93-e1c35a40d95a",
   "metadata": {},
   "outputs": [],
   "source": [
    "maping.figure.savefig(\"output.png\")"
   ]
  },
  {
   "cell_type": "code",
   "execution_count": 17,
   "id": "b4383afe-355f-48c0-8f39-1cce3ff02c46",
   "metadata": {},
   "outputs": [],
   "source": [
    "import pickle\n",
    "\n",
    "with open('model.pkl', 'wb') as model_file:\n",
    "    pickle.dump(svm, model_file)"
   ]
  },
  {
   "cell_type": "code",
   "execution_count": null,
   "id": "f1c80e25-99c6-447a-923f-dd6df8f50eac",
   "metadata": {},
   "outputs": [],
   "source": []
  }
 ],
 "metadata": {
  "kernelspec": {
   "display_name": "Python 3 (ipykernel)",
   "language": "python",
   "name": "python3"
  },
  "language_info": {
   "codemirror_mode": {
    "name": "ipython",
    "version": 3
   },
   "file_extension": ".py",
   "mimetype": "text/x-python",
   "name": "python",
   "nbconvert_exporter": "python",
   "pygments_lexer": "ipython3",
   "version": "3.10.9"
  }
 },
 "nbformat": 4,
 "nbformat_minor": 5
}
